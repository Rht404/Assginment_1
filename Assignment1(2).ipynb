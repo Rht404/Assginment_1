{
 "cells": [
  {
   "cell_type": "code",
   "execution_count": 5,
   "id": "5a488e52-2368-42f1-870d-910bbf11b932",
   "metadata": {},
   "outputs": [
    {
     "name": "stdout",
     "output_type": "stream",
     "text": [
      "['rohit', [1, 2, 'rohit', 3.4], 3.5, (1, 'rohit', 3.6)]\n"
     ]
    }
   ],
   "source": [
    "#Question1(crate one varible which contains (string,list,float,tuple))\n",
    "\n",
    "Variable=['rohit',[1,2,'rohit',3.4],3.5,(1,'rohit',3.6)]\n",
    "print(Variable)\n"
   ]
  },
  {
   "cell_type": "code",
   "execution_count": 19,
   "id": "222a048f-1a62-4c41-bce8-e5519deaadd9",
   "metadata": {},
   "outputs": [
    {
     "name": "stdout",
     "output_type": "stream",
     "text": [
      "<class 'str'>\n",
      "<class 'str'>\n",
      "<class 'list'>\n",
      "<class 'float'>\n"
     ]
    }
   ],
   "source": [
    "#Question2(tell the data type of the varible)\n",
    "\n",
    "var1=\" \"\n",
    "print(type(var1))\n",
    "\n",
    "var2 = '[DS, ML, Python]'\n",
    "print(type(var2))\n",
    "\n",
    "var3= ['DS','ML','Python']\n",
    "print(type(var3))\n",
    "\n",
    "var4 = 1.\n",
    "print(type(var4))"
   ]
  },
  {
   "cell_type": "markdown",
   "id": "62e74d18-2e30-4242-8e98-51211c6964ab",
   "metadata": {},
   "source": [
    "Question3( Explain the use of the following operators using an example)\n",
    "\n",
    "1(/)\n",
    "This  Arithmetic operator is used with numeric values to perform division mathematical operations.\n",
    "\n",
    "2(%)\n",
    "This Arithmetic modulus operator is used with numeric values to perform divison  mathematical operations and gives remainder.\n",
    "\n",
    "3(//)\n",
    "this is Aritmatic operator named 'Floor division' is an operation in Python that allows us to divide two numbers and rounds the resultant value down to the nearest integer\n",
    "\n",
    "4(**)\n",
    "It is knowns as an exponentiation operator, which is one of the ways to calculate the exponential value of the given base and exponent values."
   ]
  },
  {
   "cell_type": "code",
   "execution_count": 21,
   "id": "dc024fb7-3c40-4056-8539-4c73fb907f7a",
   "metadata": {},
   "outputs": [
    {
     "name": "stdout",
     "output_type": "stream",
     "text": [
      "5.0\n",
      "1\n",
      "2.8\n",
      "8\n"
     ]
    }
   ],
   "source": [
    "#Question3(uses of the given operators)\n",
    "#1(/)\n",
    "a=2\n",
    "b=10\n",
    "print(b/a)\n",
    "\n",
    "#2(%)\n",
    "c=10\n",
    "d=3\n",
    "print(c%d)\n",
    "\n",
    "#3(//)\n",
    "e=14\n",
    "f=5\n",
    "print(e/f)\n",
    "\n",
    "#4(**)\n",
    "a=2\n",
    "a=a**3\n",
    "print(a)\n",
    "\n",
    "\n"
   ]
  },
  {
   "cell_type": "code",
   "execution_count": 29,
   "id": "bf971b52-3c82-474f-8d5f-302fffca24c5",
   "metadata": {},
   "outputs": [
    {
     "name": "stdout",
     "output_type": "stream",
     "text": [
      "1\n",
      "<class 'int'>\n",
      "2.3\n",
      "<class 'float'>\n",
      "rohit\n",
      "<class 'str'>\n",
      "(1, 2, 'rohit')\n",
      "<class 'tuple'>\n",
      "{1, 2, 3}\n",
      "<class 'set'>\n",
      "[1, 2, 'a codder']\n",
      "<class 'list'>\n",
      "{'fruit': 'apple'}\n",
      "<class 'dict'>\n",
      "true\n",
      "<class 'str'>\n",
      "(1+2j)\n",
      "<class 'complex'>\n",
      "4.99\n",
      "<class 'float'>\n"
     ]
    }
   ],
   "source": [
    "'''Question4(Create a list of length 10 of your choice containing multiple types of data. Using for loop print the \n",
    "element and its data type)'''\n",
    "\n",
    "list1=[1,2.3,'rohit',(1,2,'rohit'),{1,2,3},[1,2,'a codder'],{'fruit':'apple'},'true',1+2j,4.99]\n",
    "\n",
    "for items in range(len(list1)):\n",
    "                   print(list1[items])\n",
    "                   print(type(list1[items]))\n"
   ]
  },
  {
   "cell_type": "code",
   "execution_count": 18,
   "id": "61d77fe3-ce52-4679-8414-cdd0e0f9eec4",
   "metadata": {},
   "outputs": [
    {
     "name": "stdin",
     "output_type": "stream",
     "text": [
      "Enter the value of number A:  15\n",
      "Enter the value of number B:  3\n"
     ]
    },
    {
     "name": "stdout",
     "output_type": "stream",
     "text": [
      "Number A can be divided by number B 1 times.\n"
     ]
    }
   ],
   "source": [
    "'''#Quesiotn5(Using a while loop, verify if the number A is purely divisible by number B and if so then how many \n",
    "times it can be divisible)'''\n",
    "def count_divisions(a, b):\n",
    "    count =0\n",
    "\n",
    "    while a%b==0:\n",
    "        count +=1\n",
    "        a //=b\n",
    "\n",
    "    return count\n",
    "\n",
    "num_a = int(input(\"Enter the value of number A: \"))\n",
    "num_b = int(input(\"Enter the value of number B: \"))\n",
    "\n",
    "divisions = count_divisions(num_a, num_b)\n",
    "print(f\"Number A can be divided by number B {divisions} times.\")\n",
    "\n",
    "\n"
   ]
  },
  {
   "cell_type": "code",
   "execution_count": 17,
   "id": "3409129d-6a50-4df9-8f3f-f4e8f10fc313",
   "metadata": {},
   "outputs": [
    {
     "name": "stdout",
     "output_type": "stream",
     "text": [
      "25\n",
      "1 is not divisible by 3\n",
      "2 is not divisible by 3\n",
      "3 is divisible by 3\n",
      "4 is not divisible by 3\n",
      "5 is not divisible by 3\n",
      "6 is divisible by 3\n",
      "8 is not divisible by 3\n",
      "9 is divisible by 3\n",
      "10 is not divisible by 3\n",
      "12 is divisible by 3\n",
      "0 is divisible by 3\n",
      "56 is not divisible by 3\n",
      "97 is not divisible by 3\n",
      "79 is not divisible by 3\n",
      "4679 is not divisible by 3\n",
      "4661 is not divisible by 3\n",
      "649 is not divisible by 3\n",
      "797 is not divisible by 3\n",
      "44 is not divisible by 3\n",
      "7854 is divisible by 3\n",
      "545 is not divisible by 3\n",
      "54 is divisible by 3\n",
      "47 is not divisible by 3\n",
      "87 is divisible by 3\n",
      "89 is not divisible by 3\n"
     ]
    }
   ],
   "source": [
    "'''Question6(Create a list containing 25 int type data. Using for loop and if-else condition print if the element is \n",
    "divisible by 3 or not)'''\n",
    "list1=[1,2,3,4,5,6,8,9,10,12,0,56,97,79,4679,4661,649,797,44,7854,545,54,47,87,89]\n",
    "\n",
    "for i in range(len(list1)):\n",
    "       if(list1[i]%3==0):\n",
    "            print(f\"{list1[i]} is divisible by 3\")\n",
    "       else:\n",
    "        print(f\"{list1[i]} is not divisible by 3\")\n",
    "     "
   ]
  },
  {
   "cell_type": "markdown",
   "id": "2947df77-d3c4-4902-a168-4bc06506102f",
   "metadata": {},
   "source": [
    "'''Question7(What do you understand about mutable and immutable data types? Give examples for both showing \n",
    "this property.'''\n",
    "\n",
    "mutable and immutable data type:\n",
    "Mutable is when something is changeable or has the ability to change. In Python, ‘mutable’ is the ability of objects to change their values.\n",
    "Objects of built-in type that are mutable are:\n",
    "\n",
    " Lists\n",
    " Sets\n",
    " Dictionaries\n",
    " User-Defined Classes (It purely depends upon the user to define the characteristics) \n",
    "\n",
    "Immutable Objects are of in-built datatypes like int, float, bool, string, Unicode, and tuple. In simple words, an immutable object can’t be changed after it is created. \n",
    "\n",
    "Objects of built-in type that are immutable are:\n",
    "\n",
    " Numbers (Integer, Rational, Float, Decimal, Complex & Booleans)\n",
    " Strings \n",
    " Tuples\n",
    " Frozen Sets\n",
    " User-Defined Classes (It purely depends upon the user to define the characteristics)\n"
   ]
  },
  {
   "cell_type": "code",
   "execution_count": 24,
   "id": "085f9440-d5be-4d1d-800d-26925b6783c0",
   "metadata": {},
   "outputs": [
    {
     "name": "stdout",
     "output_type": "stream",
     "text": [
      "[1, 2, 3, 5, 6]\n",
      "[1, 2, 3, 5, 6, 3]\n"
     ]
    }
   ],
   "source": [
    "#Example of question7 for mutable data type:\n",
    "list1=[1,2,3,5,6]\n",
    "print(list1)\n",
    "list1.append(3)\n",
    "print(list1)"
   ]
  },
  {
   "cell_type": "code",
   "execution_count": 1,
   "id": "3aeccac5-fafa-42cd-92a7-816b702e51cf",
   "metadata": {},
   "outputs": [
    {
     "ename": "SyntaxError",
     "evalue": "invalid syntax (1662143800.py, line 6)",
     "output_type": "error",
     "traceback": [
      "\u001b[0;36m  Cell \u001b[0;32mIn[1], line 6\u001b[0;36m\u001b[0m\n\u001b[0;31m    *print(tuple1)shows some error!\u001b[0m\n\u001b[0m                  ^\u001b[0m\n\u001b[0;31mSyntaxError\u001b[0m\u001b[0;31m:\u001b[0m invalid syntax\n"
     ]
    }
   ],
   "source": [
    "#Example of question7 for immutable data type:\n",
    "tuple1=(1,2,3,4,6)\n",
    "print(tuple1)\n",
    "tuple.append(2)\n",
    "print(tuple1)\n",
    "*print(tuple1)shows some error!"
   ]
  },
  {
   "cell_type": "code",
   "execution_count": null,
   "id": "972f99ec-8d83-47ce-b435-3d7033ae588b",
   "metadata": {},
   "outputs": [],
   "source": []
  }
 ],
 "metadata": {
  "kernelspec": {
   "display_name": "Python 3 (ipykernel)",
   "language": "python",
   "name": "python3"
  },
  "language_info": {
   "codemirror_mode": {
    "name": "ipython",
    "version": 3
   },
   "file_extension": ".py",
   "mimetype": "text/x-python",
   "name": "python",
   "nbconvert_exporter": "python",
   "pygments_lexer": "ipython3",
   "version": "3.10.8"
  }
 },
 "nbformat": 4,
 "nbformat_minor": 5
}
